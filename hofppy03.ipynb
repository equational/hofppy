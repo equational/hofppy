{
 "cells": [
  {
   "cell_type": "markdown",
   "id": "c8eccdc9-a9c9-4907-9e88-2534cb8be659",
   "metadata": {},
   "source": [
    "### Copyright (c) 2024 James Litsios"
   ]
  },
  {
   "cell_type": "markdown",
   "id": "aaefeea0-c743-4e3f-bb10-8accd04050eb",
   "metadata": {},
   "source": [
    "## Code V14: Give State a comonadic api¶"
   ]
  },
  {
   "cell_type": "code",
   "execution_count": 1,
   "id": "09702966-727f-482d-93f9-9ee45a518999",
   "metadata": {},
   "outputs": [
    {
     "name": "stdout",
     "output_type": "stream",
     "text": [
      "State(kv={'a': 1, 'b': 2, 'c': 3}, counter=101)\n"
     ]
    }
   ],
   "source": [
    "from abc import abstractmethod\n",
    "from typing import TypeVar, Generic, ClassVar, Tuple, Any, Dict, List\n",
    "from collections.abc import Callable\n",
    "from dataclasses import dataclass, field, fields\n",
    "\n",
    "@dataclass(frozen=True)\n",
    "class State:\n",
    "    kv: dict\n",
    "    counter: int\n",
    "\n",
    "    class Access:\n",
    "        \n",
    "        @dataclass(frozen=True)\n",
    "        class kv:\n",
    "            counter: int\n",
    "        \n",
    "            @staticmethod\n",
    "            def lower(path): \n",
    "                state = path[0]\n",
    "                return (state.kv, (State.Access.kv(state.counter), path))\n",
    "                        \n",
    "        @dataclass(frozen=True)\n",
    "        class counter:\n",
    "            kv: dict\n",
    "    \n",
    "            @staticmethod\n",
    "            def lower(path):\n",
    "                state = path[0]\n",
    "                return (state.counter, (State.Access.counter(state.kv), path))\n",
    "    \n",
    "            \n",
    "def cobind(path, f):\n",
    "    return State(\n",
    "        f(State.Access.kv.lower(path)),\n",
    "        f(State.Access.counter.lower(path)))\n",
    "\n",
    "def current(focus):\n",
    "    return focus[0]\n",
    "\n",
    "state1 = State({'a':1, 'b':2}, 100)\n",
    "\n",
    " \n",
    "print(cobind((state1, None), lambda t2: {\n",
    "    State.Access.kv:(lambda kv_: (kv:=current(kv_))|{'c': kv['a']+kv['b']}),\n",
    "    State.Access.counter:(lambda counter_: current(counter_)+1)\n",
    "    }[t2[1][0].__class__](t2)))\n"
   ]
  },
  {
   "cell_type": "markdown",
   "id": "a0bf409a-9d6b-45a8-ac24-5193bad97d1d",
   "metadata": {},
   "source": [
    "## Code V15: Use right sided division as cobind operator and prepare choices"
   ]
  },
  {
   "cell_type": "code",
   "execution_count": 2,
   "id": "fcc19f54-2280-4161-80a7-d995719fc388",
   "metadata": {},
   "outputs": [
    {
     "name": "stdout",
     "output_type": "stream",
     "text": [
      "State(kv={'a': 1, 'b': 2, 'c': 3}, counter=101)\n",
      "State(kv={'a': 1, 'b': 2, 'c': 3}, counter=101)\n"
     ]
    }
   ],
   "source": [
    "@dataclass(frozen=True)\n",
    "class Choice:\n",
    "    f: Callable[[Any, ...], Any]\n",
    "\n",
    "    def __rtruediv__(self, cobindable):\n",
    "        return cobind(cobindable, self.f)\n",
    "\n",
    "    def __rfloordiv__(self, cobindable):\n",
    "        return cobind((cobindable, None), self.f)\n",
    "\n",
    "print(state1 // Choice(lambda t2: {\n",
    "    State.Access.kv:(lambda kv_: (kv:=current(kv_))|{'c': kv['a']+kv['b']}),\n",
    "    State.Access.counter:(lambda counter_: current(counter_)+1)\n",
    "    }[t2[1][0].__class__](t2)))\n",
    "\n",
    "print((state1, None) / Choice(lambda t2: {\n",
    "    State.Access.kv:(lambda kv_: (kv:=current(kv_))|{'c': kv['a']+kv['b']}),\n",
    "    State.Access.counter:(lambda counter_: current(counter_)+1)\n",
    "    }[t2[1][0].__class__](t2)))"
   ]
  },
  {
   "cell_type": "markdown",
   "id": "6bf949ab-9923-4dc8-9a32-1e9778adb931",
   "metadata": {},
   "source": [
    "## Code V16: Bring in conditional cobinding of dataclass fields"
   ]
  },
  {
   "cell_type": "code",
   "execution_count": 3,
   "id": "80b9bdea-92fd-477b-90cb-4eb29f49151d",
   "metadata": {},
   "outputs": [
    {
     "name": "stdout",
     "output_type": "stream",
     "text": [
      "State(kv={'a': 1, 'b': 2, 'c': 3}, counter=100)\n",
      "State(kv={'a': 1, 'b': 2}, counter=101)\n",
      "State(kv={'a': 1, 'b': 2, 'c': 3}, counter=101)\n"
     ]
    }
   ],
   "source": [
    "class CoBindable:\n",
    "    @abstractmethod\n",
    "    def cobind(self, path: Tuple[Any, ...], f: Callable[[Tuple[Any, ...]], Any]) -> Any:\n",
    "        pass\n",
    "\n",
    "@dataclass(frozen=True)\n",
    "class Choice:\n",
    "    f: Callable[[Any, ...], Any]\n",
    "\n",
    "    @abstractmethod\n",
    "    def mk_filter(self):\n",
    "        pass\n",
    "\n",
    "    @abstractmethod\n",
    "    def mk_choices(self, cs):\n",
    "        pass\n",
    "    \n",
    "    def __or__(self, other: 'Choice'):\n",
    "        return self.mk_choices((self, other))\n",
    "    \n",
    "    def __rtruediv__(self, cobindable):\n",
    "        return cobind(cobindable, self.mk_filter())\n",
    "\n",
    "    def __rfloordiv__(self, cobindable):\n",
    "        return cobind((cobindable, None), self.mk_filter())\n",
    "\n",
    "@dataclass(frozen=True)\n",
    "class Choices:\n",
    "    cs: Tuple[Choice, ...]\n",
    "\n",
    "    @abstractmethod\n",
    "    def mk_chooser(self):\n",
    "        pass\n",
    "    \n",
    "    def __or__(self, other: 'Choice'):\n",
    "        return self.__class__(self.cs+(other,))\n",
    "\n",
    "    def __rtruediv__(self, cobindable):\n",
    "        return cobind(cobindable, self.mk_chooser())\n",
    "\n",
    "    def __rfloordiv__(self, cobindable):\n",
    "        return cobind((cobindable, None), self.mk_chooser())\n",
    "\n",
    "\n",
    "@dataclass(frozen=True)\n",
    "class FieldChoice(Choice):\n",
    "\n",
    "    def mk_filter(self):\n",
    "        return (lambda focus:\n",
    "            self.f(focus) \n",
    "                if self.__class__.__name__ == focus[1][0].__class__.__name__ \n",
    "                else focus[0])\n",
    "    \n",
    "    def mk_choices(self, cs):\n",
    "        return FieldChoices(cs)\n",
    "\n",
    "                \n",
    "@dataclass(frozen=True)\n",
    "class FieldChoices(Choices):\n",
    "\n",
    "    def mk_chooser(self):\n",
    "     return (lambda focus:\n",
    "             opt_choice[0].f(focus) \n",
    "                 if (opt_choice := tuple(filter((lambda choice: choice.__class__.__name__ == focus[1][0].__class__.__name__), self.cs)))\n",
    "                 else focus[0])\n",
    "\n",
    "@dataclass(frozen=True)\n",
    "class State(CoBindable):\n",
    "    kv: dict\n",
    "    counter: int\n",
    "\n",
    "    def cobind(self, path: Tuple[Any, ...], f: Callable[[Tuple[Any, ...]], Any]) -> Any:\n",
    "        xpath = (self, path)\n",
    "        return self.__class__(*[f(access.lower(xpath)) for access in self.__class__.accessors])\n",
    "\n",
    "    \n",
    "    class Lower:\n",
    "        \n",
    "        @dataclass(frozen=True)\n",
    "        class kv:\n",
    "            counter: int\n",
    "        \n",
    "            @staticmethod\n",
    "            def lower(path): \n",
    "                state = path[0]\n",
    "                return (state.kv, (State.Lower.kv(state.counter), path))\n",
    "                        \n",
    "        @dataclass(frozen=True)\n",
    "        class counter:\n",
    "            kv: dict\n",
    "    \n",
    "            @staticmethod\n",
    "            def lower(path):\n",
    "                state = path[0]\n",
    "                return (state.counter, (State.Lower.counter(state.kv), path))\n",
    "\n",
    "    class K:\n",
    "        \n",
    "        @dataclass(frozen=True)\n",
    "        class kv(FieldChoice):\n",
    "            pass\n",
    "            \n",
    "        @dataclass(frozen=True)\n",
    "        class counter(FieldChoice):\n",
    "            pass\n",
    "\n",
    "State.accessors=[State.Lower.kv, State.Lower.counter]\n",
    "\n",
    "            \n",
    "def cobind(focus: Tuple[Any, ...], f: Callable[[Tuple[Any, ...]], Any]) -> Any:\n",
    "    return focus[0].cobind(focus[1], f)\n",
    "\n",
    "\n",
    "\n",
    "state1 = State({'a':1, 'b':2}, 100)\n",
    "\n",
    "print(state1 // (\n",
    "    State.K.kv(lambda kv_: (kv:=kv_[0])|{'c': kv['a']+kv['b']})\n",
    "    ))\n",
    "\n",
    "print(state1 // (\n",
    "    State.K.counter(lambda counter_: counter_[0]+1)\n",
    "    ))\n",
    "\n",
    "print(state1 // (\n",
    "    State.K.kv(lambda kv_: (kv:=kv_[0])|{'c': kv['a']+kv['b']})\n",
    "    | State.K.counter(lambda counter_: counter_[0]+1)\n",
    "    ))\n"
   ]
  },
  {
   "cell_type": "markdown",
   "id": "f0195ca4-eaa7-4b35-86a6-244c71e50fbb",
   "metadata": {},
   "source": [
    "## Code V17: We can cobind dictionaries too, and have a choice model"
   ]
  },
  {
   "cell_type": "code",
   "execution_count": 4,
   "id": "44573d6a-4d99-46b0-946f-8cc5a951f699",
   "metadata": {},
   "outputs": [
    {
     "name": "stdout",
     "output_type": "stream",
     "text": [
      "State(kv={'a': 1, 'b': 2, 'c': 3}, counter=100)\n"
     ]
    }
   ],
   "source": [
    "@dataclass(frozen=True, init=False)\n",
    "class DictChoice(Choice):\n",
    "    k: Any\n",
    "\n",
    "    def __init__(self, k, f): \n",
    "        object.__setattr__(self, 'k', k)\n",
    "        super().__init__(f)\n",
    "    \n",
    "    def mk_filter(self):\n",
    "        return (lambda focus:\n",
    "            self.f(focus) \n",
    "                if self.k == focus[1][0] \n",
    "                else focus[0])\n",
    "    \n",
    "    def mk_choices(self, cs):\n",
    "        return FieldMappings(cs)\n",
    "\n",
    "DC = DictChoice\n",
    "\n",
    "@dataclass(frozen=True)\n",
    "class DictChoices(Choices):\n",
    "\n",
    "    def mk_chooser(self):\n",
    "     return (lambda focus:\n",
    "             opt_choice[0].f(focus) \n",
    "                 if (opt_choice := tuple(filter((lambda choice: choice.k == focus[1][0]), self.cs)))\n",
    "                 else focus[0])\n",
    "\n",
    "\n",
    "def dict_cobind(focus, f):\n",
    "    return {k: f((v, (k, focus))) for k,v in focus[0].items()}\n",
    "\n",
    "\n",
    "def cobind(focus: Tuple[Any, ...], f: Callable[[Tuple[Any, ...]], Any]) -> Any:\n",
    "    if isinstance(focus[0], dict):\n",
    "        return dict_cobind(focus, f)\n",
    "    elif isinstance(focus[0], CoBindable):\n",
    "        return focus[0].cobind(focus[1], f)\n",
    "    else:\n",
    "        assert(False)\n",
    "\n",
    "\n",
    "state2 = State({'a':1, 'b':2, 'c':None}, 100)\n",
    "\n",
    "\n",
    "print(state2 // (\n",
    "    State.K.kv(lambda kvf: kvf / DC('c', lambda df: kvf[0]['a']+kvf[0]['b']))\n",
    "    ))\n",
    "\n"
   ]
  },
  {
   "cell_type": "markdown",
   "id": "10ed685d-4a05-46fc-a2f4-1677ab52dbcb",
   "metadata": {},
   "source": [
    "## Code V18: Make binding operators composable"
   ]
  },
  {
   "cell_type": "code",
   "execution_count": 5,
   "id": "c9e87127-dae7-482d-ab59-4a1d100e1a38",
   "metadata": {},
   "outputs": [
    {
     "name": "stdout",
     "output_type": "stream",
     "text": [
      "State(kv={'a': 1, 'b': 2, 'c': 3}, counter=100)\n"
     ]
    }
   ],
   "source": [
    "setattr(State.K.kv, '__init__', lambda self, f=None: super(State.K.kv, self).__init__(f))\n",
    "setattr(State.K.kv, '__pow__', lambda self, other: State.K.kv(lambda kv_f: kv_f / other))\n",
    "\n",
    "setattr(State.K.counter, '__init__', lambda self, f=None: super(State.K.counter, self).__init__(f))\n",
    "setattr(State.K.counter, '__pow__', lambda self, other: State.K.counter(lambda counter_f: counter_f / other))\n",
    "\n",
    "\n",
    "def dcinit(self, k, f=None): \n",
    "    object.__setattr__(self, 'k', k)\n",
    "    super(DictChoice, self).__init__(f)\n",
    "    \n",
    "setattr(DictChoice, '__init__', dcinit)\n",
    "setattr(DictChoice, '__pow__', lambda self, other: DictChoice(lambda kvf: kvf / other))\n",
    "\n",
    "state2 = State({'a':1, 'b':2, 'c':None}, 100)\n",
    "\n",
    "print(state2 // State.K.kv() ** DC('c', (lambda df: df[1][1][0]['a']+df[1][1][0]['b'])))"
   ]
  },
  {
   "cell_type": "markdown",
   "id": "8c3e4283-5f36-47d3-af36-353449f42399",
   "metadata": {},
   "source": [
    "## Code V19: We can cobind JAX arrays"
   ]
  },
  {
   "cell_type": "code",
   "execution_count": 6,
   "id": "5fc1aee1-f35e-4583-a86c-0f34da0aac7d",
   "metadata": {},
   "outputs": [
    {
     "name": "stdout",
     "output_type": "stream",
     "text": [
      "[0. 1. 2. 3. 4. 5. 6. 7. 8. 9.]\n",
      "[ 1.  2.  3.  4.  5.  6.  7.  8.  9. 10.]\n"
     ]
    }
   ],
   "source": [
    "import os\n",
    "os.environ[\"JAX_PLATFORM_NAME\"] = \"cpu\"\n",
    "from jax import lax, jit\n",
    "import jax.numpy as jnp\n",
    "import jax.random as jrnd\n",
    "\n",
    "\n",
    "\n",
    "@dataclass(frozen=True)\n",
    "class JNP(Choice):\n",
    "    \n",
    "    def mk_filter(self):\n",
    "        return lambda focus: self.f(focus)\n",
    "    \n",
    "    def mk_choices(self, cs):\n",
    "        return JNPChoices(cs)\n",
    "\n",
    "\n",
    "\n",
    "@dataclass(frozen=True)\n",
    "class JNPChoices(Choices):\n",
    "\n",
    "    def mk_chooser(self):\n",
    "     return None\n",
    "\n",
    "\n",
    "def jnp_cobind(focus, f):\n",
    "    return jnp.fromfunction((lambda i:\n",
    "                                f((focus[0][i], (i, focus)))),\n",
    "                            shape=focus[0].shape,\n",
    "                            dtype=jnp.int16)\n",
    "\n",
    "\n",
    "def cobind(focus: Tuple[Any, ...], f: Callable[[Tuple[Any, ...]], Any]) -> Any:\n",
    "    if isinstance(focus[0], jnp.ndarray):\n",
    "        return jnp_cobind(focus, f)\n",
    "    elif isinstance(focus[0], dict):\n",
    "        return dict_cobind(focus, f)\n",
    "    elif isinstance(focus[0], CoBindable):\n",
    "        return focus[0].cobind(focus[1], f)\n",
    "    else:\n",
    "        assert(False)\n",
    "\n",
    "\n",
    "a = jnp.arange(0, 10, dtype=jnp.float32)\n",
    "print(a)\n",
    "print(a // JNP(lambda jef: jef[0]+1))"
   ]
  },
  {
   "cell_type": "markdown",
   "id": "e4173ef8-69dc-42d0-a8f6-883d916d62ec",
   "metadata": {},
   "source": [
    "## Code V20: Show that shallow JAX JIT performance on comonadic code is still good"
   ]
  },
  {
   "cell_type": "code",
   "execution_count": 7,
   "id": "e33bf289-ef71-476c-9c35-4406a242789e",
   "metadata": {},
   "outputs": [
    {
     "name": "stdout",
     "output_type": "stream",
     "text": [
      "Original non-JIT: 108\n",
      "Original JIT: 11\n",
      "Comonadic non-JIT: 7752\n",
      "Comonadic JIT: 11\n"
     ]
    }
   ],
   "source": [
    "from timeit import timeit\n",
    "\n",
    "def timeit2(f, number=1000000):\n",
    "    return 1e6*timeit(f, number=number)/number\n",
    "\n",
    "# Example taken from: https://jax.readthedocs.io/en/latest/quickstart.html\n",
    "\n",
    "key = jrnd.key(1701)\n",
    "x = jrnd.normal(key, (1_00, ))\n",
    "\n",
    "def selu1(x, alpha=1.67, lmbda=1.05):\n",
    "    return lmbda * jnp.where(x > 0, x, alpha * jnp.exp(x) - alpha)\n",
    "\n",
    "selu1_jit = jit(selu1)\n",
    "\n",
    "print(f\"Original non-JIT: {timeit2(lambda: selu1(x).block_until_ready(), number=100000):.0f}\")\n",
    "print(f\"Original JIT: {timeit2(lambda: selu1_jit(x).block_until_ready()):.0f}\")\n",
    "\n",
    "def selu2(x, alpha=1.67, lmbda=1.05):\n",
    "    return lmbda * lax.cond(x > 0, (lambda y: y), (lambda y: alpha * jnp.exp(y) - alpha), x)\n",
    "\n",
    "def f(x, alpha=1.67, lmbda=1.05):\n",
    "    return x // (JNP(lambda ef:  selu2(ef[0])))\n",
    "\n",
    "f_jit = jit(f)\n",
    "\n",
    "print(f\"Comonadic non-JIT: {timeit2((lambda: f(x).block_until_ready()), number=1000):.0f}\")\n",
    "print(f\"Comonadic JIT: {timeit2((lambda: f_jit(x).block_until_ready())):.0f}\")\n"
   ]
  },
  {
   "cell_type": "markdown",
   "id": "6eff525d-3dd8-4158-aa4e-9e19ce58f59c",
   "metadata": {},
   "source": [
    "Next step is ensure that JAX JIT also works for deep cobinds"
   ]
  },
  {
   "cell_type": "code",
   "execution_count": null,
   "id": "b6397cea-935a-4058-a1d1-39e468d8368e",
   "metadata": {},
   "outputs": [],
   "source": []
  }
 ],
 "metadata": {
  "kernelspec": {
   "display_name": "Python 3 (ipykernel)",
   "language": "python",
   "name": "python3"
  },
  "language_info": {
   "codemirror_mode": {
    "name": "ipython",
    "version": 3
   },
   "file_extension": ".py",
   "mimetype": "text/x-python",
   "name": "python",
   "nbconvert_exporter": "python",
   "pygments_lexer": "ipython3",
   "version": "3.10.4"
  }
 },
 "nbformat": 4,
 "nbformat_minor": 5
}
