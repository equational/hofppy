{
 "cells": [
  {
   "cell_type": "markdown",
   "id": "a868bad5-e9ad-4f79-8769-a261ee289b08",
   "metadata": {},
   "source": [
    "## Copyright (c) 2024 James Litsios"
   ]
  },
  {
   "cell_type": "code",
   "execution_count": 1,
   "id": "30d21aec-d66d-4555-a090-be638105bb06",
   "metadata": {},
   "outputs": [],
   "source": [
    "from dataclasses import dataclass, field, InitVar\n",
    "from typing import Tuple"
   ]
  },
  {
   "cell_type": "markdown",
   "id": "ddb204d3-0500-414d-ab2f-0de2f21b0121",
   "metadata": {},
   "source": [
    "## State V1: mutable"
   ]
  },
  {
   "cell_type": "code",
   "execution_count": 2,
   "id": "03b41b8b-6a76-4fda-a0c3-5502d851a37d",
   "metadata": {},
   "outputs": [
    {
     "data": {
      "text/plain": [
       "State(kv={'a': 1, 'b': 2}, counter=100)"
      ]
     },
     "execution_count": 2,
     "metadata": {},
     "output_type": "execute_result"
    }
   ],
   "source": [
    "@dataclass(frozen=False)\n",
    "class State:\n",
    "    kv: dict\n",
    "    counter: int\n",
    "\n",
    "state = State(kv={'a':1, 'b':2}, counter=100) \n",
    "state"
   ]
  },
  {
   "cell_type": "markdown",
   "id": "964f6cf2-159a-4e90-8536-e7db36694c23",
   "metadata": {},
   "source": [
    "## Code V1: mutable, no signature constraints"
   ]
  },
  {
   "cell_type": "code",
   "execution_count": 3,
   "id": "cdc6b35e-71f5-4b0a-b182-32c6fc9aa312",
   "metadata": {},
   "outputs": [
    {
     "data": {
      "text/plain": [
       "(101, State(kv={'a': 1, 'b': 2, 'c': 3}, counter=101))"
      ]
     },
     "execution_count": 3,
     "metadata": {},
     "output_type": "execute_result"
    }
   ],
   "source": [
    "def get(state: State, k: str) -> str:\n",
    "    return state.kv[k]\n",
    "\n",
    "def set_(state: State, k: str, v: int) -> None:\n",
    "    state.kv[k] = v\n",
    "\n",
    "def increment(state: State) -> int:\n",
    "    state.counter += 1\n",
    "    return state.counter\n",
    "\n",
    "def test1(state: State) -> Tuple[int, State]:\n",
    "    av = get(state, 'a')\n",
    "    bv = get(state, 'b')\n",
    "    set_(state, 'c', av+bv)\n",
    "    incremented = increment(state)\n",
    "    return incremented, state\n",
    "\n",
    "test1(state)"
   ]
  },
  {
   "cell_type": "markdown",
   "id": "d81f051b-c5c6-4f23-85da-82ae303206e5",
   "metadata": {},
   "source": [
    "## State V2: immutable"
   ]
  },
  {
   "cell_type": "code",
   "execution_count": 4,
   "id": "93ed5e25-c0cc-4b20-8a86-ac52a9208e8c",
   "metadata": {},
   "outputs": [
    {
     "data": {
      "text/plain": [
       "State(kv={'a': 1, 'b': 2}, counter=100)"
      ]
     },
     "execution_count": 4,
     "metadata": {},
     "output_type": "execute_result"
    }
   ],
   "source": [
    "@dataclass(frozen=True)\n",
    "class State:\n",
    "    kv: dict\n",
    "    counter: int\n",
    "\n",
    "state = State(kv={'a':1, 'b':2}, counter=100) \n",
    "state"
   ]
  },
  {
   "cell_type": "markdown",
   "id": "deb7eabd-8192-43ab-82c2-ab7fb03ea94d",
   "metadata": {},
   "source": [
    "## Code V2: immutable state is passed around"
   ]
  },
  {
   "cell_type": "code",
   "execution_count": 5,
   "id": "a25fecbb-00ff-45eb-aa74-86b6d52acc5f",
   "metadata": {},
   "outputs": [
    {
     "data": {
      "text/plain": [
       "(101, State(kv={'a': 1, 'b': 2, 'c': 3}, counter=101))"
      ]
     },
     "execution_count": 5,
     "metadata": {},
     "output_type": "execute_result"
    }
   ],
   "source": [
    "def get(state: State, k: str) -> str:\n",
    "    return state.kv[k]\n",
    "\n",
    "def set_(state: State, k: str, v: int) -> State:\n",
    "    return State(dict(state.kv | {k:v}), state.counter)\n",
    "\n",
    "def increment(state: State) -> Tuple[int, State]:\n",
    "    new_counter = state.counter + 1\n",
    "    return new_counter, State(state.kv, new_counter)\n",
    "\n",
    "def test(state: State) -> Tuple[int, State]:\n",
    "    av = get(state, 'a')\n",
    "    bv = get(state, 'b')\n",
    "    state = set_(state, 'c', av+bv)\n",
    "    incremented, state = increment(state)\n",
    "    return incremented, state\n",
    "\n",
    "test(state)"
   ]
  },
  {
   "cell_type": "markdown",
   "id": "0c652506-34ba-494d-b7ae-46447484816a",
   "metadata": {},
   "source": [
    "## Code V3: immutable state is always passed around (even when not changed)"
   ]
  },
  {
   "cell_type": "code",
   "execution_count": 6,
   "id": "efe62c47-9380-41f4-b43e-a3d071bbd3a8",
   "metadata": {},
   "outputs": [],
   "source": [
    "from typing import Tuple, Any"
   ]
  },
  {
   "cell_type": "code",
   "execution_count": 7,
   "id": "227c08ff-70d4-4721-a82e-f969dbe15918",
   "metadata": {},
   "outputs": [
    {
     "data": {
      "text/plain": [
       "(101, State(kv={'a': 1, 'b': 2, 'c': 3}, counter=101))"
      ]
     },
     "execution_count": 7,
     "metadata": {},
     "output_type": "execute_result"
    }
   ],
   "source": [
    "def get(state: State, k: str) -> Tuple[str, State]:\n",
    "    return state.kv[k], state\n",
    "\n",
    "def set_(state: State, k: str, v: int) -> Tuple[None, State]:\n",
    "    return None, State(dict(state.kv | {k:v}), state.counter)\n",
    "\n",
    "def increment(state: State) -> Tuple[int, State]:\n",
    "    new_counter = state.counter + 1\n",
    "    return new_counter, State(state.kv, new_counter)\n",
    "\n",
    "def test(state: State) -> Tuple[int, State]:\n",
    "    av, state = get(state, 'a')\n",
    "    bv, state = get(state, 'b')\n",
    "    _, state = set_(state, 'c', av+bv)\n",
    "    incremented, state = increment(state)\n",
    "    return incremented, state\n",
    "\n",
    "test(state)"
   ]
  },
  {
   "cell_type": "markdown",
   "id": "b871c385-866e-4319-a40c-50274b19e619",
   "metadata": {},
   "source": [
    "## Code V4: State \"handling\" is normalized and explicitly given its own function that can be called later, always in the same manner"
   ]
  },
  {
   "cell_type": "code",
   "execution_count": 8,
   "id": "26d3040f-e0a8-46a5-980b-96bfd4bc670a",
   "metadata": {},
   "outputs": [
    {
     "data": {
      "text/plain": [
       "(101, State(kv={'a': 1, 'b': 2, 'c': 3}, counter=101))"
      ]
     },
     "execution_count": 8,
     "metadata": {},
     "output_type": "execute_result"
    }
   ],
   "source": [
    "from collections.abc import Callable\n",
    "\n",
    "def get(k: str) -> Callable[[State], Tuple[str, State]]:\n",
    "    return lambda state: (state.kv[k], state)\n",
    "\n",
    "def set_(k: str, v: int) -> Callable[[State], Tuple[None, State]]:\n",
    "    return lambda state: (None, State(dict(state.kv | {k:v}), state.counter))\n",
    "\n",
    "def increment() -> Callable[[State], Tuple[int, State]]:\n",
    "    return (lambda state:\n",
    "        (new_counter := state.counter + 1, State(state.kv, new_counter)))\n",
    "\n",
    "def test(state: State):\n",
    "    av, state = get('a')(state)\n",
    "    bv, state = get('b')(state)\n",
    "    _, state = set_('c', av+bv)(state)\n",
    "    incremented, state = increment()(state)\n",
    "    return incremented, state\n",
    "\n",
    "test(state)"
   ]
  },
  {
   "cell_type": "markdown",
   "id": "3a0a75be-f363-44b3-8e4a-a321b48a0c6f",
   "metadata": {},
   "source": [
    "## Code V5: Make it monadic by \"binding\" statements into one big expression with the help of a bind function"
   ]
  },
  {
   "cell_type": "code",
   "execution_count": 9,
   "id": "c944f76c-9590-40ae-86ee-a3380cf8fde3",
   "metadata": {},
   "outputs": [
    {
     "data": {
      "text/plain": [
       "(101, State(kv={'a': 1, 'b': 2, 'c': 3}, counter=101))"
      ]
     },
     "execution_count": 9,
     "metadata": {},
     "output_type": "execute_result"
    }
   ],
   "source": [
    "def bind(m, fm):\n",
    "    return (lambda state:\n",
    "        fm((r_state := m(state))[0])(r_state[1]))\n",
    "    \n",
    "def test():\n",
    "    return bind(get('a'), lambda av:\n",
    "        bind(get('b'), lambda bv:\n",
    "            bind(set_('c', av+bv), lambda _:\n",
    "                increment())))\n",
    "\n",
    "test()(state)"
   ]
  },
  {
   "cell_type": "markdown",
   "id": "c7e4364c-92da-4559-97fa-85c6541a5aec",
   "metadata": {},
   "source": [
    "## Case V6: Use the \">>\" operator to bind, and explicitly define objects to capture the monadic functions"
   ]
  },
  {
   "cell_type": "code",
   "execution_count": 10,
   "id": "e49dafbf-5cc2-4bed-ad31-890490b292e7",
   "metadata": {},
   "outputs": [
    {
     "data": {
      "text/plain": [
       "(101, State(kv={'a': 1, 'b': 2, 'c': 3}, counter=101))"
      ]
     },
     "execution_count": 10,
     "metadata": {},
     "output_type": "execute_result"
    }
   ],
   "source": [
    "class SM:\n",
    "    def __rshift__(self, fm):\n",
    "        return (lambda state:\n",
    "            fm((r_state := self.__call__(state))[0])(r_state[1]))\n",
    "        \n",
    "\n",
    "class Get(SM):\n",
    "    def __init__(self, k:str):\n",
    "        self.k = k\n",
    "        \n",
    "    def __call__(self, state) -> Tuple[str, State]:\n",
    "        return (state.kv[self.k], state)\n",
    "\n",
    "class Set(SM):\n",
    "    def __init__(self, k: str, v: int):\n",
    "        self.k = k\n",
    "        self.v = v\n",
    "        \n",
    "    def __call__(self, state) -> Tuple[None, State]:\n",
    "        return (None, State(dict(state.kv | {self.k:self.v}), state.counter))\n",
    "\n",
    "class Increment(SM):\n",
    "    def __init__(self): \n",
    "        pass\n",
    "        \n",
    "    def __call__(self, state) -> Tuple[int, State]:\n",
    "        return (new_counter := state.counter + 1, State(state.kv, new_counter))\n",
    "\n",
    "def test():\n",
    "    return Get('a') >> (lambda av:\n",
    "        Get('b') >> (lambda bv:\n",
    "            Set('c', av+bv) >> (lambda _:\n",
    "                Increment())))\n",
    "\n",
    "test()(state) "
   ]
  },
  {
   "cell_type": "markdown",
   "id": "59a336ee-18a8-4d0b-81a0-b82e576a9e44",
   "metadata": {},
   "source": [
    "## Code V7: Change bind logic to make a maybe monad"
   ]
  },
  {
   "cell_type": "code",
   "execution_count": 11,
   "id": "c7dd400c-93ec-4d1c-82d0-68ea9f6e1489",
   "metadata": {},
   "outputs": [
    {
     "data": {
      "text/plain": [
       "((101, State(kv={'a': 1, 'b': 2, 'c': 3}, counter=101)),\n",
       " (None, State(kv={'a': 1, 'b': 2}, counter=100)))"
      ]
     },
     "execution_count": 11,
     "metadata": {},
     "output_type": "execute_result"
    }
   ],
   "source": [
    "class MSM:\n",
    "    def __rshift__(self, fm):\n",
    "        return (lambda state:\n",
    "            (r_state2 if (r_state2 := fm(r_state1[0])(r_state1[1]))[0] is not None else (None, state)\n",
    "               ) if (r_state1 := self.__call__(state))[0] is not None else (None, state))\n",
    "        \n",
    "\n",
    "class Get(MSM):\n",
    "    def __init__(self, k:str):\n",
    "        self.k = k\n",
    "        \n",
    "    def __call__(self, state) -> Tuple[str, State]:\n",
    "        return (state.kv.get(self.k, None), state)\n",
    "\n",
    "class Set(MSM):\n",
    "    def __init__(self, kv: Tuple[str, int]):\n",
    "        self.kv = kv\n",
    "        \n",
    "    def __call__(self, state) -> Tuple[None, State]:\n",
    "        return (self.kv[1], State(dict(state.kv | {self.kv[0]:self.kv[1]}), state.counter))\n",
    "\n",
    "class Increment(MSM):\n",
    "    def __init__(self): \n",
    "        pass\n",
    "        \n",
    "    def __call__(self, state) -> Tuple[int, State]:\n",
    "        return (new_counter := state.counter + 1, State(state.kv, new_counter))\n",
    "\n",
    "def test_a():\n",
    "    return  Get('a') >> (lambda av:\n",
    "            Get('b') >> (lambda bv:\n",
    "            Set(('c', av+bv)) >> (lambda _:\n",
    "            Increment())))\n",
    "\n",
    "def test_b():\n",
    "    return  Get('a') >> (lambda av:\n",
    "            Get('b') >> (lambda bv:\n",
    "            Set(('c', av+bv)) >> (lambda _:\n",
    "            Increment() >> (lambda _:\n",
    "            Get('x')))))\n",
    "\n",
    "test_a()(state), test_b()(state)"
   ]
  },
  {
   "cell_type": "markdown",
   "id": "406ae3e8-0dae-4937-b949-ce3344d0d9d8",
   "metadata": {},
   "source": [
    "## Code V8: \"Wrap\" expressions and lambda as data to make a free monad"
   ]
  },
  {
   "cell_type": "code",
   "execution_count": 12,
   "id": "bd6ade1d-c9f4-4fc0-bcb1-db114f0d135b",
   "metadata": {},
   "outputs": [
    {
     "data": {
      "text/plain": [
       "(101, State(kv={'a': 1, 'b': 2, 'c': 3}, counter=101))"
      ]
     },
     "execution_count": 12,
     "metadata": {},
     "output_type": "execute_result"
    }
   ],
   "source": [
    "from abc import ABC, abstractmethod\n",
    "\n",
    "class FSM:\n",
    "    def __rshift__(self, fm):\n",
    "        return Bind(self, fm)\n",
    "\n",
    "    @abstractmethod\n",
    "    def runfs(self, state, var_list=None) -> Tuple[Any, State]:\n",
    "        pass\n",
    "        \n",
    "class Expr:\n",
    "    @abstractmethod\n",
    "    def eval(self, var_list=None) -> Any:\n",
    "        pass\n",
    "\n",
    "@dataclass(init=True)\n",
    "class Bind(FSM):\n",
    "    m: FSM\n",
    "    fm: 'Lambda'\n",
    "\n",
    "    def runfs(self, state, var_list=None) -> Tuple[Any, State]:\n",
    "        return self.fm.body.runfs((r_state := self.m.runfs(state, var_list))[1], ((self.fm.var, (r_state[0])),var_list))\n",
    "\n",
    "@dataclass(init=True)\n",
    "class Lambda(Expr):\n",
    "    var: 'Var'\n",
    "    body: Expr\n",
    "\n",
    "    def eval(self, var_list=None) -> Any:\n",
    "        # must be applied to change\n",
    "        return self\n",
    "\n",
    "@dataclass(init=True)\n",
    "class Add(Expr):\n",
    "    lhs: Expr\n",
    "    rhs: Expr\n",
    "\n",
    "    def eval(self, var_list=None) -> Any:\n",
    "        return self.lhs.eval(var_list)+self.rhs.eval(var_list)\n",
    "\n",
    "@dataclass(init=False, eq=True)\n",
    "class Var(Expr):\n",
    "    name: str\n",
    "\n",
    "    def __init__(self, name=None):\n",
    "        self.name = name\n",
    "\n",
    "    def eval(self, var_list=None) -> Any:\n",
    "        while var_list is not None:\n",
    "            if var_list[0][0] == self:\n",
    "                return var_list[0][1]\n",
    "            else:\n",
    "                var_list = var_list[1]\n",
    "        assert(False)\n",
    "    \n",
    "    def __call__(self, body):\n",
    "        return Lambda(self, body)\n",
    "\n",
    "    def __add__(self, other):\n",
    "        return Add(self, other)        \n",
    "\n",
    "@dataclass(init=True)\n",
    "class Get(FSM):\n",
    "    k: str\n",
    "            \n",
    "    def runfs(self, state, var_list=None) -> Tuple[Any, State]:\n",
    "        return (state.kv.get(self.k, None), state)\n",
    "\n",
    "@dataclass(init=True)\n",
    "class Set(FSM):\n",
    "    k: str\n",
    "    v: int\n",
    "        \n",
    "    def runfs(self, state, var_list=None) -> Tuple[None, State]:\n",
    "        return (v_eval:=self.v.eval(var_list), State(dict(state.kv | {self.k:v_eval}), state.counter))\n",
    "\n",
    "class Increment(FSM):\n",
    "    def __init__(self): \n",
    "        pass\n",
    "        \n",
    "    def runfs(self, state, var_list=None) -> Tuple[int, State]:\n",
    "        return (new_counter := state.counter + 1, State(state.kv, new_counter))\n",
    "\n",
    "def test():\n",
    "    return  Get('a') >> Var(\"av\")(\n",
    "            Get('b') >> Var(\"bv\")(\n",
    "            Set('c', Var(\"av\")+Var(\"bv\")) >> Var()(\n",
    "            Increment())))\n",
    "\n",
    "test().runfs(state)"
   ]
  },
  {
   "cell_type": "markdown",
   "id": "3e4abb1e-1c3a-4d3a-b2ec-39042e8d8bc8",
   "metadata": {},
   "source": [
    "## Code V9: Use the \"**\" operator to bind, use \\__getattr__ to capture the managed lambda variables"
   ]
  },
  {
   "cell_type": "code",
   "execution_count": 13,
   "id": "06692d9d-984f-457e-ac04-0c44abb254de",
   "metadata": {},
   "outputs": [
    {
     "data": {
      "text/plain": [
       "(101, State(kv={'a': 1, 'b': 2, 'c': 3}, counter=101))"
      ]
     },
     "execution_count": 13,
     "metadata": {},
     "output_type": "execute_result"
    }
   ],
   "source": [
    "from abc import ABC, abstractmethod\n",
    "\n",
    "@dataclass(init=True)\n",
    "class NamedFSM:\n",
    "    m: 'FSM'\n",
    "    var_id: str\n",
    "    \n",
    "    def __pow__(self, lm):\n",
    "        return Bind(self.m, Lambda(Var(self.var_id), lm))\n",
    "\n",
    "\n",
    "class FSM:\n",
    "\n",
    "    def __getattr__(self, id):\n",
    "        return NamedFSM(self, id)\n",
    "\n",
    "    def __pow__(self, lm):\n",
    "        return Bind(self, Lambda(None, lm))\n",
    "        \n",
    "    @abstractmethod\n",
    "    def runfs(self, state, var_list=None) -> Tuple[Any, State]:\n",
    "        pass\n",
    "        \n",
    "class Expr:\n",
    "    @abstractmethod\n",
    "    def eval(self, var_list=None) -> Any:\n",
    "        pass\n",
    "\n",
    "@dataclass(init=True)\n",
    "class Bind(FSM):\n",
    "    m: FSM\n",
    "    fm: 'Lambda'\n",
    "\n",
    "    def runfs(self, state, var_list=None) -> Tuple[Any, State]:\n",
    "        return self.fm.body.runfs((r_state := self.m.runfs(state, var_list))[1], ((self.fm.var, (r_state[0])),var_list) if self.fm.var else var_list)\n",
    "\n",
    "\n",
    "@dataclass(init=True)\n",
    "class Lambda(Expr):\n",
    "    var: 'Var'\n",
    "    body: Expr\n",
    "\n",
    "    def eval(self, var_list=None) -> Any:\n",
    "        # must be applied to change\n",
    "        return self\n",
    "\n",
    "@dataclass(init=True)\n",
    "class Add(Expr):\n",
    "    lhs: Expr\n",
    "    rhs: Expr\n",
    "\n",
    "    def eval(self, var_list=None) -> Any:\n",
    "        return self.lhs.eval(var_list)+self.rhs.eval(var_list)\n",
    "\n",
    "@dataclass(init=False, eq=True)\n",
    "class Var(Expr):\n",
    "    name: str\n",
    "\n",
    "    def __init__(self, name=None):\n",
    "        self.name = name\n",
    "\n",
    "    def eval(self, var_list=None) -> Any:\n",
    "        while var_list is not None:\n",
    "            if var_list[0][0] == self:\n",
    "                return var_list[0][1]\n",
    "            else:\n",
    "                var_list = var_list[1]\n",
    "        assert(False)\n",
    "    \n",
    "    def __call__(self, body):\n",
    "        return Lambda(self, body)\n",
    "\n",
    "    def __add__(self, other):\n",
    "        return Add(self, other)        \n",
    "\n",
    "@dataclass(init=True)\n",
    "class Get(FSM):\n",
    "    k: str\n",
    "            \n",
    "    def runfs(self, state, var_list=None) -> Tuple[Any, State]:\n",
    "        return (state.kv.get(self.k, None), state)\n",
    "\n",
    "@dataclass(init=True)\n",
    "class Set(FSM):\n",
    "    k: str\n",
    "    v: int\n",
    "        \n",
    "    def runfs(self, state, var_list=None) -> Tuple[None, State]:\n",
    "        return (v_eval:=self.v.eval(var_list), State(dict(state.kv | {self.k:v_eval}), state.counter))\n",
    "\n",
    "class Increment(FSM):\n",
    "    def __init__(self): \n",
    "        pass\n",
    "        \n",
    "    def runfs(self, state, var_list=None) -> Tuple[int, State]:\n",
    "        return (new_counter := state.counter + 1, State(state.kv, new_counter))\n",
    "\n",
    "def test():\n",
    "    return (Get('a').av ** \n",
    "            Get('b').bv ** \n",
    "            Set('c', Var('av')+Var('bv')) ** \n",
    "            Increment())\n",
    "\n",
    "    \n",
    "test().runfs(state)"
   ]
  },
  {
   "cell_type": "markdown",
   "id": "dbc111d4-a179-416d-89f6-be81ea384cb2",
   "metadata": {},
   "source": [
    "## Code V10: Clean separation between monadic and non-monadic expressions, improved bringing monadic terms into non-monadic expressions"
   ]
  },
  {
   "cell_type": "code",
   "execution_count": 14,
   "id": "774387e4-68ee-45cc-b7be-b8e8793cfca6",
   "metadata": {},
   "outputs": [
    {
     "data": {
      "text/plain": [
       "(101, State(kv={'a': 1, 'b': 2, 'c': 3}, counter=101))"
      ]
     },
     "execution_count": 14,
     "metadata": {},
     "output_type": "execute_result"
    }
   ],
   "source": [
    "from abc import ABC, abstractmethod\n",
    "\n",
    "@dataclass(init=True)\n",
    "class NamedFSM:\n",
    "    m: 'FSM'\n",
    "    ids: Tuple[str, ...] \n",
    "    \n",
    "    def __getattr__(self, id_):\n",
    "        return NamedFSM(self.m, self.ids+(id_,))\n",
    "        \n",
    "    def __pow__(self, lm):\n",
    "        return Bind(self.m, Lambda(self.ids, lm))\n",
    "\n",
    "\n",
    "\n",
    "def set_(ids, args, var_list):\n",
    "    if isinstance(args, tuple):\n",
    "        if ids == () and args == ():\n",
    "            return var_list\n",
    "        else:\n",
    "            set_(ids[1:], args[1:], ((ids[0], args[0]), var_list))\n",
    "    else:\n",
    "        assert(len(ids) == 1)\n",
    "        return ((ids[0], args), var_list)\n",
    "\n",
    "def lookup(id_, var_list):\n",
    "    while var_list is not None:\n",
    "        if id_ == var_list[0][0]:\n",
    "            return var_list[0][1]\n",
    "        var_list = var_list[1]\n",
    "    assert(False)\n",
    "\n",
    "def get_(var_list, ids):\n",
    "    if isinstance(ids, tuple):\n",
    "        if ids != ():\n",
    "            return (lookup(ids[0], var_list),)+get_(var_list, ids[1:])\n",
    "        else:\n",
    "            return ()\n",
    "    else:\n",
    "        return lookup(ids, var_list)\n",
    "\n",
    "class FSM:\n",
    "\n",
    "    def __getattr__(self, id_):\n",
    "        return NamedFSM(self, (id_,))\n",
    "\n",
    "    def __pow__(self, lm):\n",
    "        return Bind(self, Lambda((), lm))\n",
    "        \n",
    "    @abstractmethod\n",
    "    def runfs(self, state, var_list=None) -> Tuple[Any, State]:\n",
    "        pass\n",
    "\n",
    "\n",
    "class ExprMeta(type):\n",
    "    def __getattr__(cls, id_):\n",
    "        return Expr((id_,))\n",
    "\n",
    "class Expr(metaclass=ExprMeta):\n",
    "    def __init__(self, ids):\n",
    "        self.ids = ids\n",
    "        \n",
    "    def __getattr__(self, id_):\n",
    "        return Expr(self.ids+(id_,))\n",
    "\n",
    "    def __call__(self, expr_lambda):\n",
    "        return ExprFSM(self.ids, expr_lambda)\n",
    "        \n",
    "@dataclass(init=True)\n",
    "class ExprFSM(FSM):\n",
    "    ids: Tuple[str, ...]\n",
    "    expr_lambda: Any\n",
    "\n",
    "    \n",
    "    def runfs(self, state, var_list=None) -> Tuple[Any, State]:\n",
    "        return (self.expr_lambda(*get_(var_list, self.ids)), state)\n",
    "        \n",
    "        \n",
    "@dataclass(init=True)\n",
    "class Bind(FSM):\n",
    "    m: FSM\n",
    "    fm: 'Lambda'\n",
    "\n",
    "    def runfs(self, state, var_list=None) -> Tuple[Any, State]:\n",
    "        return self.fm.body.runfs((r_state := self.m.runfs(state, var_list))[1], set_(self.fm.ids, r_state[0], var_list))\n",
    "\n",
    "\n",
    "@dataclass(init=True)\n",
    "class Lambda:\n",
    "    ids: Tuple[str, ...] \n",
    "    body: Expr\n",
    "\n",
    "\n",
    "@dataclass(init=True)\n",
    "class Get(FSM):\n",
    "    k: str\n",
    "            \n",
    "    def runfs(self, state, var_list=None) -> Tuple[Any, State]:\n",
    "        return (state.kv.get(self.k, None), state)\n",
    "\n",
    "@dataclass(init=True)\n",
    "class Set(FSM):\n",
    "    k: str\n",
    "    v: int\n",
    "        \n",
    "    def runfs(self, state, var_list=None) -> Tuple[None, State]:\n",
    "        return ((), State(dict((v_runfs:=self.v.runfs(state, var_list))[1].kv | {self.k:v_runfs[0]}), v_runfs[1].counter))\n",
    "\n",
    "class Increment(FSM):\n",
    "    def __init__(self, _=None): \n",
    "        pass\n",
    "        \n",
    "    def runfs(self, state, var_list=None) -> Tuple[int, State]:\n",
    "        return (new_counter := state.counter + 1, State(state.kv, new_counter))\n",
    "\n",
    "import operator as op\n",
    "\n",
    "def test():\n",
    "    return (Get('a').av ** \n",
    "            Get('b').bv ** \n",
    "            Set('c', Expr.av.bv(op.add)) ** \n",
    "            Increment())\n",
    "\n",
    "    \n",
    "test().runfs(state)"
   ]
  },
  {
   "cell_type": "markdown",
   "id": "3c8b821b-c020-486e-8148-541d3724b30e",
   "metadata": {},
   "source": [
    "## Code V11: Define basic monadic functions and \"lift\" them to work on a specific state"
   ]
  },
  {
   "cell_type": "code",
   "execution_count": 15,
   "id": "08603738-6482-47f1-8153-dffdb3950911",
   "metadata": {},
   "outputs": [
    {
     "data": {
      "text/plain": [
       "((101, State(kv=101, counter={'a': 1, 'b': 2, 'c': 3})),\n",
       " (101, State(kv=101, counter={'a': 1, 'b': 2, 'c': 3})),\n",
       " (101, State(kv=101, counter={'a': 1, 'b': 2, 'c': 3})),\n",
       " (101, State(kv=101, counter={'a': 1, 'b': 2, 'c': 3})))"
      ]
     },
     "execution_count": 15,
     "metadata": {},
     "output_type": "execute_result"
    }
   ],
   "source": [
    "from abc import abstractmethod\n",
    "from typing import TypeVar, Generic, ClassVar\n",
    "from collections.abc import Callable\n",
    "\n",
    "T = TypeVar('T')\n",
    "S = TypeVar('S')\n",
    "M = TypeVar('M')\n",
    "ML = TypeVar('ML')\n",
    "MR = TypeVar('MR')\n",
    "\n",
    "\n",
    "@dataclass(frozen=True)\n",
    "class State:\n",
    "    kv: dict\n",
    "    counter: int\n",
    "\n",
    "        \n",
    "    @dataclass(frozen=True)\n",
    "    class _KV:\n",
    "        counter: int\n",
    "    \n",
    "        @classmethod\n",
    "        def toField(cls, state): \n",
    "            return (state.kv, cls(state.counter))\n",
    "            \n",
    "        @classmethod\n",
    "        def fromField(cls, kv, rest):\n",
    "            return State(kv, rest.counter)\n",
    "    \n",
    "        \n",
    "    \n",
    "    @dataclass(frozen=True)\n",
    "    class _Counter:\n",
    "        kv: dict\n",
    "\n",
    "        @classmethod\n",
    "        def toField(cls, state): \n",
    "            return (state.counter, cls(state.kv))\n",
    "\n",
    "        @classmethod\n",
    "        def fromField(cls, counter, rest):\n",
    "            return State(counter, rest.kv)\n",
    "    \n",
    "\n",
    "state = State(kv={'a':1, 'b':2}, counter=100) \n",
    "\n",
    "@dataclass(init=True)\n",
    "class NamedFSM(Generic[ML]):\n",
    "    m: ML\n",
    "    ids: Tuple[str, ...] \n",
    "    \n",
    "    def __getattr__(self, id_) -> 'NamedFSM[MR]':\n",
    "        return NamedFSM(self.m, self.ids+(id_,))\n",
    "        \n",
    "    def __pow__(self, mr: MR) -> 'Bind[ML, Lambda[MR]]':\n",
    "        return Bind(self.m, Lambda(self.ids, mr))\n",
    "\n",
    "\n",
    "\n",
    "def set_(ids, args, var_list):\n",
    "    if isinstance(args, tuple):\n",
    "        if ids == () and args == ():\n",
    "            return var_list\n",
    "        else:\n",
    "            set_(ids[1:], args[1:], ((ids[0], args[0]), var_list))\n",
    "    else:\n",
    "        assert(len(ids) == 1)\n",
    "        return ((ids[0], args), var_list)\n",
    "\n",
    "def lookup(id_, var_list):\n",
    "    while var_list is not None:\n",
    "        if id_ == var_list[0][0]:\n",
    "            return var_list[0][1]\n",
    "        var_list = var_list[1]\n",
    "    assert(False)\n",
    "\n",
    "def get_(var_list, ids):\n",
    "    if isinstance(ids, tuple):\n",
    "        if ids != ():\n",
    "            return (lookup(ids[0], var_list),)+get_(var_list, ids[1:])\n",
    "        else:\n",
    "            return ()\n",
    "    else:\n",
    "        return lookup(ids, var_list)\n",
    "\n",
    "class FSM:\n",
    "\n",
    "    def __getattr__(self, id_) -> NamedFSM['FSM']:\n",
    "        return NamedFSM(self, (id_,))\n",
    "\n",
    "    def __pow__(self, mr) -> 'Bind[ML, Lambda[MR]]':\n",
    "        return Bind(self, Lambda((), mr))\n",
    "        \n",
    "    @abstractmethod\n",
    "    def runfs(self, state: S, var_list=None) -> Tuple[Any, S]:\n",
    "        pass\n",
    "\n",
    "class ExprMeta(type):\n",
    "    def __getattr__(cls, id_):\n",
    "        return Expr((id_,))\n",
    "\n",
    "class Expr(metaclass=ExprMeta):\n",
    "    def __init__(self, ids):\n",
    "        self.ids = ids\n",
    "        \n",
    "    def __getattr__(self, id_):\n",
    "        return Expr(self.ids+(id_,))\n",
    "\n",
    "    def __call__(self, expr_lambda: Callable[[Any, ...], Any]):\n",
    "        return ExprFSM(self.ids, expr_lambda)\n",
    "        \n",
    "@dataclass(init=True)\n",
    "class ExprFSM(FSM):\n",
    "    ids: Tuple[str, ...]\n",
    "    expr_lambda: Any\n",
    "\n",
    "    \n",
    "    def runfs(self, state: S, var_list=None) -> Tuple[Any, S]:\n",
    "        return (self.expr_lambda(*get_(var_list, self.ids)), state)\n",
    "        \n",
    "        \n",
    "@dataclass(init=True)\n",
    "class Bind(FSM):\n",
    "    m: FSM\n",
    "    fm: 'Lambda'\n",
    "\n",
    "    def runfs(self, state: S, var_list=None) -> Tuple[Any, S]:\n",
    "        return self.fm.body.runfs((r_state := self.m.runfs(state, var_list))[1], set_(self.fm.ids, r_state[0], var_list))\n",
    "\n",
    "\n",
    "@dataclass(init=True)\n",
    "class Lambda:\n",
    "    ids: Tuple[str, ...] \n",
    "    body: ExprFSM\n",
    "\n",
    "\n",
    "@dataclass(init=True)\n",
    "class LiftS(FSM):\n",
    "    loweredCls: Any\n",
    "    m: FSM\n",
    "    \n",
    "    def runfs(self, state: S, var_list=None) -> Tuple[Any, S]:\n",
    "        return ((ret_state := self.m.runfs((lower:=self.loweredCls.toField(state))[0], var_list))[0], self.loweredCls.fromField((ret_state)[1], lower[1]))\n",
    "\n",
    "@dataclass(init=True)\n",
    "class LiftSC:\n",
    "    loweredCls: Any\n",
    "    mc: object\n",
    "\n",
    "    def __call__(self, *args):\n",
    "        return liftS(self.loweredCls, self.mc(*args))\n",
    "\n",
    "def liftS(cls, mc_or_m: object | FSM) -> LiftSC | LiftS:\n",
    "    if isinstance(mc_or_m, NamedFSM):\n",
    "        return NamedFSM(liftS(cls, mc_or_m.m), mc_or_m.ids)\n",
    "    elif isinstance(mc_or_m, FSM):\n",
    "        return LiftS(cls, mc_or_m)\n",
    "    else:\n",
    "        return LiftSC(cls, mc_or_m)\n",
    "\n",
    "@dataclass(init=True)\n",
    "class Get(FSM):\n",
    "    k: str\n",
    "            \n",
    "    def runfs(self, state: S, var_list=None) -> Tuple[Any, S]:\n",
    "        return (state.get(self.k, None), state)\n",
    "\n",
    "@dataclass(init=True)\n",
    "class Set(FSM):\n",
    "    k: str\n",
    "    v: int\n",
    "        \n",
    "    def runfs(self, state: S, var_list=None) -> Tuple[None, S]:\n",
    "        return ((), dict((v_runfs:=self.v.runfs(state, var_list))[1] | {self.k:v_runfs[0]}))\n",
    "\n",
    "class Increment(FSM):\n",
    "    def __init__(self, _=None): \n",
    "        pass\n",
    "        \n",
    "    def runfs(self, state: S, var_list=None) -> Tuple[int, S]:\n",
    "        return (new_counter := state + 1, new_counter)\n",
    "\n",
    "import operator as op\n",
    "\n",
    "def test_a():\n",
    "    return (liftS(State._KV, Get)('a').av ** \n",
    "            liftS(State._KV, Get)('b').bv ** \n",
    "            liftS(State._KV, Set)('c', Expr.av.bv(op.add)) ** \n",
    "            liftS(State._Counter, Increment)())\n",
    "\n",
    "def test_b():\n",
    "    return (liftS(State._KV, Get('a').av) ** \n",
    "            liftS(State._KV, Get('b').bv) ** \n",
    "            liftS(State._KV, Set('c', Expr.av.bv(op.add))) ** \n",
    "            liftS(State._Counter, Increment()))\n",
    "\n",
    "def test_c():\n",
    "    return (liftS(State._KV, Get('a')).av ** \n",
    "            liftS(State._KV, Get('b')).bv ** \n",
    "            liftS(State._KV, Set('c', Expr.av.bv(op.add))) ** \n",
    "            liftS(State._Counter, Increment()))\n",
    "\n",
    "\n",
    "def test_d():\n",
    "    return (liftS(State._KV,  Get('a').av ** \n",
    "                              Get('b').bv ** \n",
    "                              Set('c', Expr.av.bv(op.add))) ** \n",
    "            liftS(State._Counter, Increment()))\n",
    "\n",
    "(test_a().runfs(state), \n",
    " test_b().runfs(state),\n",
    " test_c().runfs(state),\n",
    " test_d().runfs(state))"
   ]
  },
  {
   "cell_type": "code",
   "execution_count": null,
   "id": "ade72139-eb8d-4c5f-a8d9-eba0bc587d1b",
   "metadata": {},
   "outputs": [],
   "source": []
  }
 ],
 "metadata": {
  "kernelspec": {
   "display_name": "Python 3 (ipykernel)",
   "language": "python",
   "name": "python3"
  },
  "language_info": {
   "codemirror_mode": {
    "name": "ipython",
    "version": 3
   },
   "file_extension": ".py",
   "mimetype": "text/x-python",
   "name": "python",
   "nbconvert_exporter": "python",
   "pygments_lexer": "ipython3",
   "version": "3.10.4"
  }
 },
 "nbformat": 4,
 "nbformat_minor": 5
}
